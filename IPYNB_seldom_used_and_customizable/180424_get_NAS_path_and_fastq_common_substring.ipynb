{
 "cells": [
  {
   "cell_type": "markdown",
   "metadata": {},
   "source": [
    "# Written and first used on 180424\n",
    "## To extract NAS path and fastq common substring of new runs of samples uploaded to NAS\n",
    "### The specific location of the data and the string patterns to be searched in fastq names are customizable"
   ]
  },
  {
   "cell_type": "code",
   "execution_count": 27,
   "metadata": {},
   "outputs": [],
   "source": [
    "import os\n",
    "import pandas as pd\n",
    "import re"
   ]
  },
  {
   "cell_type": "code",
   "execution_count": 28,
   "metadata": {},
   "outputs": [],
   "source": [
    "homepath = os.path.expanduser('~') + '/'"
   ]
  },
  {
   "cell_type": "code",
   "execution_count": 29,
   "metadata": {},
   "outputs": [],
   "source": [
    "nas_path = 'NAS/DATA/NGS-PTL/MLL/fastq/'\n",
    "#month = '201804'\n",
    "#sub_folder = 'MetabolomaMartinelli/'\n",
    "sub_folder = ''\n",
    "suffix = '.fastq.gz'"
   ]
  },
  {
   "cell_type": "code",
   "execution_count": 30,
   "metadata": {},
   "outputs": [
    {
     "data": {
      "text/plain": [
       "['']"
      ]
     },
     "execution_count": 30,
     "metadata": {},
     "output_type": "execute_result"
    }
   ],
   "source": [
    "path = homepath + nas_path\n",
    "\n",
    "#folders = [f + '/' for f in os.listdir(path) if month in f]\n",
    "folders = ['']\n",
    "\n",
    "folders"
   ]
  },
  {
   "cell_type": "code",
   "execution_count": 31,
   "metadata": {},
   "outputs": [],
   "source": [
    "samples = []\n",
    "paths = []\n",
    "substring = []\n",
    "\n",
    "pattern1 = '_R[12]'\n",
    "pattern2 = '_L00[0-9]'\n",
    "\n",
    "for f in folders:\n",
    "    path = '%s%s%s%s' %(homepath, nas_path, f, sub_folder)\n",
    "\n",
    "    fastq = [fq for fq in os.listdir(path) if fq[-len(suffix):] == suffix]\n",
    "    \n",
    "    s = sorted(list(set([fq.split('_')[4] for fq in fastq])))\n",
    "    samples = samples + (s)\n",
    "\n",
    "    p = '%s%s%s' % (nas_path, f, sub_folder)\n",
    "    p = [p] * len(s)\n",
    "    paths = paths + p\n",
    "\n",
    "    cs = [fq.replace('.fastq.gz', '') for fq in fastq]\n",
    "    if pattern1:\n",
    "        cs = [pattern1.join(re.split(pattern1, f)) for f in cs]\n",
    "    if pattern2:\n",
    "        cs = [pattern2.join(re.split(pattern2, f)) for f in cs]\n",
    "    cs = sorted(list(set(cs)))\n",
    "    substring = substring + (cs)\n",
    "\n",
    "dataset = pd.DataFrame({'samples': samples, 'paths': paths, 'substring': substring})"
   ]
  },
  {
   "cell_type": "code",
   "execution_count": 32,
   "metadata": {},
   "outputs": [],
   "source": [
    "path = homepath + 'samples.tsv'\n",
    "dataset.to_csv(path, sep='\\t', index=False)"
   ]
  },
  {
   "cell_type": "code",
   "execution_count": null,
   "metadata": {},
   "outputs": [],
   "source": []
  }
 ],
 "metadata": {
  "kernelspec": {
   "display_name": "Python 3",
   "language": "python",
   "name": "python3"
  },
  "language_info": {
   "codemirror_mode": {
    "name": "ipython",
    "version": 3
   },
   "file_extension": ".py",
   "mimetype": "text/x-python",
   "name": "python",
   "nbconvert_exporter": "python",
   "pygments_lexer": "ipython3",
   "version": "3.6.3"
  }
 },
 "nbformat": 4,
 "nbformat_minor": 1
}
