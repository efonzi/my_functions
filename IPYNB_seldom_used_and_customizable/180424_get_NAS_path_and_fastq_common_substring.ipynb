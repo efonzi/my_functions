{
 "cells": [
  {
   "cell_type": "markdown",
   "metadata": {},
   "source": [
    "# Written and first used on 180424\n",
    "## To extract NAS path and fastq common substring of new runs of samples uploaded to NAS\n",
    "### The specific location of the data and the string patterns to be searched in fastq names are customizable"
   ]
  },
  {
   "cell_type": "code",
   "execution_count": 66,
   "metadata": {
    "collapsed": true
   },
   "outputs": [],
   "source": [
    "import os\n",
    "import pandas as pd\n",
    "import re"
   ]
  },
  {
   "cell_type": "code",
   "execution_count": 67,
   "metadata": {
    "collapsed": true
   },
   "outputs": [],
   "source": [
    "homepath = os.path.expanduser('~') + '/'"
   ]
  },
  {
   "cell_type": "code",
   "execution_count": 68,
   "metadata": {
    "collapsed": true
   },
   "outputs": [],
   "source": [
    "nas_path = 'NAS/DATA/unibo/Metaboloma_AML_fastq/'\n",
    "month = '201804'\n",
    "sub_folder = 'MetabolomaMartinelli/'"
   ]
  },
  {
   "cell_type": "code",
   "execution_count": 69,
   "metadata": {
    "collapsed": false
   },
   "outputs": [
    {
     "data": {
      "text/plain": [
       "['20180411_Martinelli/',\n",
       " '20180412_Martinelli/',\n",
       " '20180413_Martinelli/',\n",
       " '20180417_Martinelli/']"
      ]
     },
     "execution_count": 69,
     "metadata": {},
     "output_type": "execute_result"
    }
   ],
   "source": [
    "path = homepath + nas_path\n",
    "\n",
    "folders = [f + '/' for f in os.listdir(path) if month in f]\n",
    "\n",
    "folders"
   ]
  },
  {
   "cell_type": "code",
   "execution_count": 70,
   "metadata": {
    "collapsed": false
   },
   "outputs": [],
   "source": [
    "samples = []\n",
    "paths = []\n",
    "substring = []\n",
    "\n",
    "pattern1 = '_R[12]'\n",
    "pattern2 = '_L00[0-9]'\n",
    "\n",
    "for f in folders:\n",
    "    path = '%s%s%s%s' %(homepath, nas_path, f, sub_folder)\n",
    "\n",
    "    s = sorted(list(set([fq.split('_')[0] for fq in os.listdir(path)])))\n",
    "    samples = samples + (s)\n",
    "\n",
    "    p = '%s%s%s' % (nas_path, f, sub_folder)\n",
    "    p = [p] * len(s)\n",
    "    paths = paths + p\n",
    "\n",
    "    cs = [fq.replace('.fastq.gz', '') for fq in os.listdir(path)]\n",
    "    if pattern1:\n",
    "        cs = [pattern1.join(re.split(pattern1, f)) for f in cs]\n",
    "    if pattern2:\n",
    "        cs = [pattern2.join(re.split(pattern2, f)) for f in cs]\n",
    "    cs = sorted(list(set(cs)))\n",
    "    substring = substring + (cs)\n"
   ]
  },
  {
   "cell_type": "code",
   "execution_count": 71,
   "metadata": {
    "collapsed": false
   },
   "outputs": [],
   "source": [
    "dataset = pd.DataFrame({'samples': samples, 'paths': paths, 'substring': substring})\n",
    "dataset.to_csv('samples.tsv', sep='\\t', index=False, header=False)"
   ]
  },
  {
   "cell_type": "code",
   "execution_count": null,
   "metadata": {
    "collapsed": true
   },
   "outputs": [],
   "source": []
  }
 ],
 "metadata": {
  "kernelspec": {
   "display_name": "Python 3",
   "language": "python",
   "name": "python3"
  },
  "language_info": {
   "codemirror_mode": {
    "name": "ipython",
    "version": 3
   },
   "file_extension": ".py",
   "mimetype": "text/x-python",
   "name": "python",
   "nbconvert_exporter": "python",
   "pygments_lexer": "ipython3",
   "version": "3.4.2"
  }
 },
 "nbformat": 4,
 "nbformat_minor": 0
}
