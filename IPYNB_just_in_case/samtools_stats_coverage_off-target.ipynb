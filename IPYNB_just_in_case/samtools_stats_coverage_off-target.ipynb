{
 "cells": [
  {
   "cell_type": "code",
   "execution_count": 1,
   "metadata": {},
   "outputs": [],
   "source": [
    "import os\n",
    "import pandas as pd\n",
    "import subprocess as sp"
   ]
  },
  {
   "cell_type": "code",
   "execution_count": 2,
   "metadata": {},
   "outputs": [],
   "source": [
    "homepath = os.path.expanduser('~') + '/'"
   ]
  },
  {
   "cell_type": "code",
   "execution_count": 3,
   "metadata": {},
   "outputs": [],
   "source": [
    "samtoolspath = homepath + 'tools/samtools-1.5/'\n",
    "bedtoolspath = homepath + 'tools/bedtools2.26/bin/'\n",
    "bam = homepath + '180502_bamQC_pedagogia/389.bam'\n",
    "name = '389'\n",
    "bedfile = homepath + 'nextera-dna-exome-targeted-regions-manifest-v1-2_fixed.bed'\n",
    "stats_file = '%s389_samtools_stats.log' %(homepath)\n",
    "final_stats = '389_final_stats.tsv'"
   ]
  },
  {
   "cell_type": "code",
   "execution_count": null,
   "metadata": {},
   "outputs": [],
   "source": [
    "# samtools STATS\n",
    "cmd = '%ssamtools stats %s > %s' %(samtoolspath, bam, stats_file)\n",
    "sp.run(cmd, shell=True)"
   ]
  },
  {
   "cell_type": "code",
   "execution_count": null,
   "metadata": {},
   "outputs": [],
   "source": [
    "# transform BAM to BED\n",
    "cmd = '%sbamToBed -i %s > %s.bed' %(bedtoolspath, bam, name)\n",
    "sp.run(cmd, shell=True)"
   ]
  },
  {
   "cell_type": "code",
   "execution_count": 4,
   "metadata": {},
   "outputs": [],
   "source": [
    "# get OFF-TARGET alignments\n",
    "cmd = '%sintersectBed -a %s.bed -b %s -v | wc -l' %(bedtoolspath, name, bedfile)\n",
    "off_target = float(sp.run(cmd, shell=True, stdout=sp.PIPE).stdout.decode())"
   ]
  },
  {
   "cell_type": "code",
   "execution_count": 5,
   "metadata": {},
   "outputs": [
    {
     "data": {
      "text/plain": [
       "25093506.0"
      ]
     },
     "execution_count": 5,
     "metadata": {},
     "output_type": "execute_result"
    }
   ],
   "source": [
    "off_target"
   ]
  },
  {
   "cell_type": "code",
   "execution_count": 179,
   "metadata": {},
   "outputs": [],
   "source": [
    "with open(stats_file) as infile:\n",
    "    stats = infile.read().splitlines()\n",
    "\n",
    "stats = [e.replace(':', '').split('\\t') for e in stats if 'SN' in e][1:]\n",
    "\n",
    "indeces = []\n",
    "dic = {}\n",
    "for e in stats:\n",
    "    label = e[1].replace(' ', '_')\n",
    "    dic[label] = float(e[2])\n",
    "    indeces.append(label)\n",
    "\n",
    "cmd = \"cat %s | awk -F'\\t' 'BEGIN{SUM=0}{ SUM+=$3-$2 }END{print SUM}'\" %bedfile\n",
    "dic['exome_size'] = float(sp.run(cmd, shell=True, stdout=sp.PIPE).stdout.decode().splitlines()[0])\n",
    "indeces.append('exome_size')\n",
    "\n",
    "dic['reads_off_target'] = off_target\n",
    "indeces.append('reads_off_target')\n",
    "\n",
    "ot = dic['reads_off_target']/dic['sequences']\n",
    "bm = dic['bases_mapped']\n",
    "mapq0 = dic['reads_MQ0']/dic['sequences']\n",
    "d = dic['reads_duplicated']/dic['sequences']\n",
    "es = dic['exome_size']\n",
    "\n",
    "dic['coverage'] = bm * (1 - ot) * (1 - d) * (1 - mapq0) / es\n",
    "indeces.append('coverage')\n",
    "\n",
    "final_stats = pd.Series(dic, index=indeces)\n",
    "final_stats.to_csv('389_final_stats.tsv', sep='\\t', header=False)"
   ]
  },
  {
   "cell_type": "code",
   "execution_count": 183,
   "metadata": {
    "scrolled": true
   },
   "outputs": [
    {
     "data": {
      "text/plain": [
       "{'raw_total_sequences': 57419520.0,\n",
       " 'filtered_sequences': 0.0,\n",
       " 'sequences': 57419520.0,\n",
       " 'is_sorted': 1.0,\n",
       " '1st_fragments': 28709760.0,\n",
       " 'last_fragments': 28709760.0,\n",
       " 'reads_mapped': 57364148.0,\n",
       " 'reads_mapped_and_paired': 57333018.0,\n",
       " 'reads_unmapped': 55372.0,\n",
       " 'reads_properly_paired': 57194524.0,\n",
       " 'reads_paired': 57419520.0,\n",
       " 'reads_duplicated': 6978972.0,\n",
       " 'reads_MQ0': 5676731.0,\n",
       " 'reads_QC_failed': 0.0,\n",
       " 'non-primary_alignments': 10879.0,\n",
       " 'total_length': 4363883520.0,\n",
       " 'bases_mapped': 4359675248.0,\n",
       " 'bases_mapped_(cigar)': 4347172369.0,\n",
       " 'bases_trimmed': 0.0,\n",
       " 'bases_duplicated': 530401872.0,\n",
       " 'mismatches': 15081438.0,\n",
       " 'error_rate': 0.003469252,\n",
       " 'average_length': 76.0,\n",
       " 'maximum_length': 76.0,\n",
       " 'average_quality': 34.7,\n",
       " 'insert_size_average': 170.3,\n",
       " 'insert_size_standard_deviation': 71.9,\n",
       " 'inward_oriented_pairs': 28381244.0,\n",
       " 'outward_oriented_pairs': 16081.0,\n",
       " 'pairs_with_other_orientation': 3728.0,\n",
       " 'pairs_on_different_chromosomes': 35514.0,\n",
       " 'exome_size': 45315485.0,\n",
       " 'reads_off_target': 25093506.0,\n",
       " 'coverage': 42.87564054509062}"
      ]
     },
     "execution_count": 183,
     "metadata": {},
     "output_type": "execute_result"
    },
    {
     "data": {
      "text/plain": [
       "raw_total_sequences               5.741952e+07\n",
       "filtered_sequences                0.000000e+00\n",
       "sequences                         5.741952e+07\n",
       "is_sorted                         1.000000e+00\n",
       "1st_fragments                     2.870976e+07\n",
       "last_fragments                    2.870976e+07\n",
       "reads_mapped                      5.736415e+07\n",
       "reads_mapped_and_paired           5.733302e+07\n",
       "reads_unmapped                    5.537200e+04\n",
       "reads_properly_paired             5.719452e+07\n",
       "reads_paired                      5.741952e+07\n",
       "reads_duplicated                  6.978972e+06\n",
       "reads_MQ0                         5.676731e+06\n",
       "reads_QC_failed                   0.000000e+00\n",
       "non-primary_alignments            1.087900e+04\n",
       "total_length                      4.363884e+09\n",
       "bases_mapped                      4.359675e+09\n",
       "bases_mapped_(cigar)              4.347172e+09\n",
       "bases_trimmed                     0.000000e+00\n",
       "bases_duplicated                  5.304019e+08\n",
       "mismatches                        1.508144e+07\n",
       "error_rate                        3.469252e-03\n",
       "average_length                    7.600000e+01\n",
       "maximum_length                    7.600000e+01\n",
       "average_quality                   3.470000e+01\n",
       "insert_size_average               1.703000e+02\n",
       "insert_size_standard_deviation    7.190000e+01\n",
       "inward_oriented_pairs             2.838124e+07\n",
       "outward_oriented_pairs            1.608100e+04\n",
       "pairs_with_other_orientation      3.728000e+03\n",
       "pairs_on_different_chromosomes    3.551400e+04\n",
       "exome_size                        4.531548e+07\n",
       "reads_off_target                  2.509351e+07\n",
       "coverage                          4.287564e+01\n",
       "dtype: float64"
      ]
     },
     "execution_count": 183,
     "metadata": {},
     "output_type": "execute_result"
    }
   ],
   "source": [
    "dic\n",
    "pd.Series(dic, index=indeces)"
   ]
  },
  {
   "cell_type": "code",
   "execution_count": 57,
   "metadata": {},
   "outputs": [],
   "source": [
    "path = homepath + '180427_bamQC_pedagogia/read_alignment.log'\n",
    "\n",
    "off_target = pd.read_table(path, sep='\\t', header=0)"
   ]
  },
  {
   "cell_type": "code",
   "execution_count": 69,
   "metadata": {},
   "outputs": [],
   "source": [
    "path = homepath + '389_bam.stats'\n",
    "\n",
    "with open(path) as infile:\n",
    "    stats389 = infile.read().splitlines()\n",
    "\n",
    "stats389 = [e.replace(':', '').split('\\t') for e in stats389 if 'SN' in e][1:]\n",
    "dic389 = {}\n",
    "\n",
    "for e in stats389:\n",
    "    dic389[e[1]] = float(e[2])"
   ]
  },
  {
   "cell_type": "code",
   "execution_count": 70,
   "metadata": {
    "scrolled": true
   },
   "outputs": [
    {
     "data": {
      "text/plain": [
       "{'raw total sequences': 57419520.0,\n",
       " 'filtered sequences': 0.0,\n",
       " 'sequences': 57419520.0,\n",
       " 'is sorted': 1.0,\n",
       " '1st fragments': 28709760.0,\n",
       " 'last fragments': 28709760.0,\n",
       " 'reads mapped': 57364148.0,\n",
       " 'reads mapped and paired': 57333018.0,\n",
       " 'reads unmapped': 55372.0,\n",
       " 'reads properly paired': 57194524.0,\n",
       " 'reads paired': 57419520.0,\n",
       " 'reads duplicated': 6978972.0,\n",
       " 'reads MQ0': 5676731.0,\n",
       " 'reads QC failed': 0.0,\n",
       " 'non-primary alignments': 10879.0,\n",
       " 'total length': 4363883520.0,\n",
       " 'bases mapped': 4359675248.0,\n",
       " 'bases mapped (cigar)': 4347172369.0,\n",
       " 'bases trimmed': 0.0,\n",
       " 'bases duplicated': 530401872.0,\n",
       " 'mismatches': 15081438.0,\n",
       " 'error rate': 0.003469252,\n",
       " 'average length': 76.0,\n",
       " 'maximum length': 76.0,\n",
       " 'average quality': 34.7,\n",
       " 'insert size average': 170.3,\n",
       " 'insert size standard deviation': 71.9,\n",
       " 'inward oriented pairs': 28381244.0,\n",
       " 'outward oriented pairs': 16081.0,\n",
       " 'pairs with other orientation': 3728.0,\n",
       " 'pairs on different chromosomes': 35514.0}"
      ]
     },
     "execution_count": 70,
     "metadata": {},
     "output_type": "execute_result"
    },
    {
     "data": {
      "text/plain": [
       "[['SN', 'raw total sequences', '57419520'],\n",
       " ['SN', 'filtered sequences', '0'],\n",
       " ['SN', 'sequences', '57419520'],\n",
       " ['SN', 'is sorted', '1'],\n",
       " ['SN', '1st fragments', '28709760'],\n",
       " ['SN', 'last fragments', '28709760'],\n",
       " ['SN', 'reads mapped', '57364148'],\n",
       " ['SN',\n",
       "  'reads mapped and paired',\n",
       "  '57333018',\n",
       "  '# paired-end technology bit set + both mates mapped'],\n",
       " ['SN', 'reads unmapped', '55372'],\n",
       " ['SN', 'reads properly paired', '57194524', '# proper-pair bit set'],\n",
       " ['SN', 'reads paired', '57419520', '# paired-end technology bit set'],\n",
       " ['SN', 'reads duplicated', '6978972', '# PCR or optical duplicate bit set'],\n",
       " ['SN', 'reads MQ0', '5676731', '# mapped and MQ=0'],\n",
       " ['SN', 'reads QC failed', '0'],\n",
       " ['SN', 'non-primary alignments', '10879'],\n",
       " ['SN', 'total length', '4363883520', '# ignores clipping'],\n",
       " ['SN', 'bases mapped', '4359675248', '# ignores clipping'],\n",
       " ['SN', 'bases mapped (cigar)', '4347172369', '# more accurate'],\n",
       " ['SN', 'bases trimmed', '0'],\n",
       " ['SN', 'bases duplicated', '530401872'],\n",
       " ['SN', 'mismatches', '15081438', '# from NM fields'],\n",
       " ['SN', 'error rate', '3.469252e-03', '# mismatches / bases mapped (cigar)'],\n",
       " ['SN', 'average length', '76'],\n",
       " ['SN', 'maximum length', '76'],\n",
       " ['SN', 'average quality', '34.7'],\n",
       " ['SN', 'insert size average', '170.3'],\n",
       " ['SN', 'insert size standard deviation', '71.9'],\n",
       " ['SN', 'inward oriented pairs', '28381244'],\n",
       " ['SN', 'outward oriented pairs', '16081'],\n",
       " ['SN', 'pairs with other orientation', '3728'],\n",
       " ['SN', 'pairs on different chromosomes', '35514']]"
      ]
     },
     "execution_count": 70,
     "metadata": {},
     "output_type": "execute_result"
    }
   ],
   "source": [
    "dic389\n",
    "stats389"
   ]
  }
 ],
 "metadata": {
  "kernelspec": {
   "display_name": "py365_euge",
   "language": "python",
   "name": "py365_euge"
  },
  "language_info": {
   "codemirror_mode": {
    "name": "ipython",
    "version": 3
   },
   "file_extension": ".py",
   "mimetype": "text/x-python",
   "name": "python",
   "nbconvert_exporter": "python",
   "pygments_lexer": "ipython3",
   "version": "3.6.3"
  }
 },
 "nbformat": 4,
 "nbformat_minor": 2
}
